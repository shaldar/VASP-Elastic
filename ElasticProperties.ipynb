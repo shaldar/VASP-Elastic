{
 "metadata": {
  "name": "",
  "signature": "sha256:cdb71ef6b53a091469c5bf5f02f1365ac0918359770a4352a9f1d9415ff6561b"
 },
 "nbformat": 3,
 "nbformat_minor": 0,
 "worksheets": [
  {
   "cells": [
    {
     "cell_type": "markdown",
     "metadata": {},
     "source": [
      "## Elastic Properties\n",
      "### Code for extracting elastic tensor and calculating mechanical properties from VASP OUTCAR\n",
      "\n",
      "Equations can be found at https://www.materialsproject.org/wiki/index.php/Elasticity_calculations"
     ]
    },
    {
     "cell_type": "code",
     "collapsed": false,
     "input": [
      "import numpy as np"
     ],
     "language": "python",
     "metadata": {},
     "outputs": [],
     "prompt_number": 86
    },
    {
     "cell_type": "code",
     "collapsed": false,
     "input": [
      "def get_elastic_tensor(filename):\n",
      "    ''' Reads the elastic tensor from the OUTCAR. \n",
      "    Args:\n",
      "        filename : the name of the vasp OUTCAR\n",
      "    Returns:\n",
      "        elastic_tensor : 6x6 tensor of the elastic moduli\n",
      "    '''\n",
      "    f = open(filename,\"r\")\n",
      "    lines = f.readlines()\n",
      "    f.close()\n",
      "    copy = False\n",
      "    elastic_tensor = []\n",
      "    for line in lines:\n",
      "        inp = line.split()\n",
      "        if inp == []:\n",
      "            continue \n",
      "        if len(inp) < 4 or len(inp) > 7:\n",
      "            continue\n",
      "        if len(inp) == 4 and inp[0] == 'TOTAL':\n",
      "            copy = True\n",
      "        if copy:\n",
      "            if len(inp) == 7 and len(inp[0]) == 2:\n",
      "                elastic_tensor.append(inp[1:])\n",
      "    return np.asarray(elastic_tensor).astype(np.float)"
     ],
     "language": "python",
     "metadata": {},
     "outputs": [],
     "prompt_number": 87
    },
    {
     "cell_type": "markdown",
     "metadata": {},
     "source": [
      "### Elastic tensor $C_{ij}$"
     ]
    },
    {
     "cell_type": "code",
     "collapsed": false,
     "input": [
      "elastic_tensor = get_elastic_tensor('OUTCAR')"
     ],
     "language": "python",
     "metadata": {},
     "outputs": [],
     "prompt_number": 88
    },
    {
     "cell_type": "markdown",
     "metadata": {},
     "source": [
      "### Divide by 10 to convert kBar to GPa"
     ]
    },
    {
     "cell_type": "code",
     "collapsed": false,
     "input": [
      "Cij = elastic_tensor/10"
     ],
     "language": "python",
     "metadata": {},
     "outputs": [],
     "prompt_number": 89
    },
    {
     "cell_type": "markdown",
     "metadata": {},
     "source": [
      "### Compliance tensor $s_{ij}$ $(GPa^{-1})$\n",
      "$s_{ij} = C_{ij}^{-1}$"
     ]
    },
    {
     "cell_type": "code",
     "collapsed": false,
     "input": [
      "Sij = np.linalg.inv(Cij)"
     ],
     "language": "python",
     "metadata": {},
     "outputs": [],
     "prompt_number": 90
    },
    {
     "cell_type": "markdown",
     "metadata": {},
     "source": [
      "### Voigt bulk modulus $K_v$ $(GPa)$\n",
      "$9K_v = (C_{11}+C_{22}+C_{33}) + 2(C_{12} + C_{23} + C_{31}) $"
     ]
    },
    {
     "cell_type": "code",
     "collapsed": false,
     "input": [
      "Kv = ((Cij[0,0] + Cij[1,1] + Cij[2,2]) + 2 * (Cij[0,1] + Cij[1,2] + Cij[2,0])) / 9\n",
      "Kv"
     ],
     "language": "python",
     "metadata": {},
     "outputs": [
      {
       "metadata": {},
       "output_type": "pyout",
       "prompt_number": 91,
       "text": [
        "24.657684444444442"
       ]
      }
     ],
     "prompt_number": 91
    },
    {
     "cell_type": "markdown",
     "metadata": {},
     "source": [
      "### Reuss bulk modulus $K_R$ $(GPa)$\n",
      "$1/K_R = (s_{11}+s_{22}+s_{33}) + 2(s_{12} + s_{23} + s_{31})$"
     ]
    },
    {
     "cell_type": "code",
     "collapsed": false,
     "input": [
      "Kr = 1.0/((Sij[0,0] + Sij[1,1] + Sij[2,2]) + 2 * (Sij[0,1] + Sij[1,2] + Sij[2,0])) \n",
      "Kr"
     ],
     "language": "python",
     "metadata": {},
     "outputs": [
      {
       "metadata": {},
       "output_type": "pyout",
       "prompt_number": 92,
       "text": [
        "20.632359241917584"
       ]
      }
     ],
     "prompt_number": 92
    },
    {
     "cell_type": "markdown",
     "metadata": {},
     "source": [
      "### Voigt shear modulus $G_v$ $(GPa)$\n",
      "$15 G_v = (C_{11}+C_{22}+C_{33}) - (C_{12} + C_{23} + C_{31}) + 3(C_{44} + C_{55} + C_{66})$"
     ]
    },
    {
     "cell_type": "code",
     "collapsed": false,
     "input": [
      "Gv = ((Cij[0,0] + Cij[1,1] + Cij[2,2]) - (Cij[0,1] + Cij[1,2] + Cij[2,0]) + 3 * (Cij[3,3] + Cij[4,4] + Cij[5,5]))/15.0\n",
      "Gv"
     ],
     "language": "python",
     "metadata": {},
     "outputs": [
      {
       "metadata": {},
       "output_type": "pyout",
       "prompt_number": 93,
       "text": [
        "15.899046666666669"
       ]
      }
     ],
     "prompt_number": 93
    },
    {
     "cell_type": "markdown",
     "metadata": {},
     "source": [
      "### Reuss shear modulus $G_v$ $(GPa)$\n",
      "$ 15/G_R = 4(s_{11}+s_{22}+s_{33}) - 4(s_{12} + s_{23} + s_{31}) + 3(s_{44} + s_{55} + s_{66})$"
     ]
    },
    {
     "cell_type": "code",
     "collapsed": false,
     "input": [
      "Gr = 15 / (4 * (Sij[0,0] + Sij[1,1] + Sij[2,2]) - 4 * (Sij[0,1] + Sij[1,2] + Sij[2,0]) + 3 * (Sij[3,3] + Sij[4,4] + Sij[5,5]))\n",
      "Gr"
     ],
     "language": "python",
     "metadata": {},
     "outputs": [
      {
       "metadata": {},
       "output_type": "pyout",
       "prompt_number": 94,
       "text": [
        "-8.8897890262909627"
       ]
      }
     ],
     "prompt_number": 94
    },
    {
     "cell_type": "markdown",
     "metadata": {},
     "source": [
      "### Voigt-Reuss-Hill bulk modulus $K_{VRH}$ $(GPa)$\n",
      "$K_{VRH} = (K_R + K_v)/2$"
     ]
    },
    {
     "cell_type": "code",
     "collapsed": false,
     "input": [
      "Kvrh = (Kv + Kr)/2\n",
      "Kvrh"
     ],
     "language": "python",
     "metadata": {},
     "outputs": [
      {
       "metadata": {},
       "output_type": "pyout",
       "prompt_number": 95,
       "text": [
        "22.645021843181013"
       ]
      }
     ],
     "prompt_number": 95
    },
    {
     "cell_type": "markdown",
     "metadata": {},
     "source": [
      "### Voigt-Reuss-Hill shear modulus $G_{VRH}$ $(GPa)$\n",
      "$G_{VRH} = (G_R + G_v)/2$"
     ]
    },
    {
     "cell_type": "code",
     "collapsed": false,
     "input": [
      "Gvrh = (Gv + Gr)/2\n",
      "Gvrh"
     ],
     "language": "python",
     "metadata": {},
     "outputs": [
      {
       "metadata": {},
       "output_type": "pyout",
       "prompt_number": 96,
       "text": [
        "3.504628820187853"
       ]
      }
     ],
     "prompt_number": 96
    },
    {
     "cell_type": "markdown",
     "metadata": {},
     "source": [
      "### Isotropic Poisson ratio $\\mu$\n",
      "$\\mu = (3K_{VRH} - 2G_{VRH})/(6K_{VRH} + 2G_{VRH})$"
     ]
    },
    {
     "cell_type": "code",
     "collapsed": false,
     "input": [
      "mu = (3 * Kvrh - 2 * Gvrh) / (6 * Kvrh + 2 * Gvrh )\n",
      "mu"
     ],
     "language": "python",
     "metadata": {},
     "outputs": [
      {
       "metadata": {},
       "output_type": "pyout",
       "prompt_number": 83,
       "text": [
        "0.42641425361443219"
       ]
      }
     ],
     "prompt_number": 83
    },
    {
     "cell_type": "code",
     "collapsed": false,
     "input": [
      "Cij"
     ],
     "language": "python",
     "metadata": {},
     "outputs": [
      {
       "metadata": {},
       "output_type": "pyout",
       "prompt_number": 85,
       "text": [
        "array([[ 32.20252,  27.1381 ,  11.8724 ,   0.     ,  -0.     ,   0.     ],\n",
        "       [ 27.1381 ,  54.92515,  14.73758,  -0.     ,   0.     ,  -0.     ],\n",
        "       [ 11.8724 ,  14.73758,  27.29533,  -0.     ,   0.     ,  -0.     ],\n",
        "       [  0.     ,  -0.     ,  -0.     ,  -1.25315,   0.     ,  -0.     ],\n",
        "       [ -0.     ,   0.     ,   0.     ,  -0.     ,   9.3545 ,   0.     ],\n",
        "       [  0.     ,  -0.     ,  -0.     ,  -0.     ,   0.     ,  -9.50601]])"
       ]
      }
     ],
     "prompt_number": 85
    },
    {
     "cell_type": "code",
     "collapsed": false,
     "input": [],
     "language": "python",
     "metadata": {},
     "outputs": []
    }
   ],
   "metadata": {}
  }
 ]
}
