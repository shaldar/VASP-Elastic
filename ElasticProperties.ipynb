{
 "cells": [
  {
   "cell_type": "markdown",
   "metadata": {},
   "source": [
    "## Elastic Properties\n",
    "### Code for extracting elastic tensor and calculating mechanical properties from VASP OUTCAR\n",
    "\n",
    "Equations can be found at https://www.materialsproject.org/wiki/index.php/Elasticity_calculations"
   ]
  },
  {
   "cell_type": "code",
   "execution_count": 1,
   "metadata": {},
   "outputs": [],
   "source": [
    "import numpy as np"
   ]
  },
  {
   "cell_type": "code",
   "execution_count": 2,
   "metadata": {},
   "outputs": [],
   "source": [
    "def get_elastic_tensor(filename):\n",
    "    ''' Reads the elastic tensor from the OUTCAR. \n",
    "    Args:\n",
    "        filename : the name of the vasp OUTCAR\n",
    "    Returns:\n",
    "        elastic_tensor : 6x6 tensor of the elastic moduli\n",
    "    '''\n",
    "    f = open(filename,\"r\")\n",
    "    lines = f.readlines()\n",
    "    f.close()\n",
    "    copy = False\n",
    "    elastic_tensor = []\n",
    "    for line in lines:\n",
    "        inp = line.split()\n",
    "        if inp == []:\n",
    "            continue \n",
    "        if len(inp) < 4 or len(inp) > 7:\n",
    "            continue\n",
    "        if len(inp) == 4 and inp[0] == 'TOTAL':\n",
    "            copy = True\n",
    "        if copy:\n",
    "            if len(inp) == 7 and len(inp[0]) == 2:\n",
    "                elastic_tensor.append(inp[1:])\n",
    "    return np.asarray(elastic_tensor).astype(np.float)"
   ]
  },
  {
   "cell_type": "markdown",
   "metadata": {},
   "source": [
    "### Elastic tensor $C_{ij}$"
   ]
  },
  {
   "cell_type": "code",
   "execution_count": 3,
   "metadata": {},
   "outputs": [],
   "source": [
    "elastic_tensor = get_elastic_tensor('OUTCAR')"
   ]
  },
  {
   "cell_type": "markdown",
   "metadata": {},
   "source": [
    "### Divide by 10 to convert kBar to GPa"
   ]
  },
  {
   "cell_type": "code",
   "execution_count": 4,
   "metadata": {},
   "outputs": [],
   "source": [
    "Cij = elastic_tensor/10.0"
   ]
  },
  {
   "cell_type": "markdown",
   "metadata": {},
   "source": [
    "### Compliance tensor $s_{ij}$ $(GPa^{-1})$\n",
    "$s_{ij} = C_{ij}^{-1}$"
   ]
  },
  {
   "cell_type": "code",
   "execution_count": 5,
   "metadata": {},
   "outputs": [],
   "source": [
    "Sij = np.linalg.inv(Cij)"
   ]
  },
  {
   "cell_type": "markdown",
   "metadata": {},
   "source": [
    "### Voigt bulk modulus $K_v$ $(GPa)$\n",
    "$9K_v = (C_{11}+C_{22}+C_{33}) + 2(C_{12} + C_{23} + C_{31}) $"
   ]
  },
  {
   "cell_type": "code",
   "execution_count": 6,
   "metadata": {},
   "outputs": [
    {
     "data": {
      "text/plain": [
       "-0.065638888888888858"
      ]
     },
     "execution_count": 6,
     "metadata": {},
     "output_type": "execute_result"
    }
   ],
   "source": [
    "Kv = ((Cij[0,0] + Cij[1,1] + Cij[2,2]) + 2 * (Cij[0,1] + Cij[1,2] + Cij[2,0])) / 9.0\n",
    "Kv"
   ]
  },
  {
   "cell_type": "markdown",
   "metadata": {},
   "source": [
    "### Reuss bulk modulus $K_R$ $(GPa)$\n",
    "$1/K_R = (s_{11}+s_{22}+s_{33}) + 2(s_{12} + s_{23} + s_{31})$"
   ]
  },
  {
   "cell_type": "code",
   "execution_count": 7,
   "metadata": {},
   "outputs": [
    {
     "data": {
      "text/plain": [
       "1.3219307419800792"
      ]
     },
     "execution_count": 7,
     "metadata": {},
     "output_type": "execute_result"
    }
   ],
   "source": [
    "Kr = 1.0/((Sij[0,0] + Sij[1,1] + Sij[2,2]) + 2 * (Sij[0,1] + Sij[1,2] + Sij[2,0])) \n",
    "Kr"
   ]
  },
  {
   "cell_type": "markdown",
   "metadata": {},
   "source": [
    "### Voigt shear modulus $G_v$ $(GPa)$\n",
    "$15 G_v = (C_{11}+C_{22}+C_{33}) - (C_{12} + C_{23} + C_{31}) + 3(C_{44} + C_{55} + C_{66})$"
   ]
  },
  {
   "cell_type": "code",
   "execution_count": 8,
   "metadata": {},
   "outputs": [
    {
     "data": {
      "text/plain": [
       "-0.16439933333333334"
      ]
     },
     "execution_count": 8,
     "metadata": {},
     "output_type": "execute_result"
    }
   ],
   "source": [
    "Gv = ((Cij[0,0] + Cij[1,1] + Cij[2,2]) - (Cij[0,1] + Cij[1,2] + Cij[2,0]) + 3 * (Cij[3,3] + Cij[4,4] + Cij[5,5]))/15.0\n",
    "Gv"
   ]
  },
  {
   "cell_type": "markdown",
   "metadata": {},
   "source": [
    "### Reuss shear modulus $G_v$ $(GPa)$\n",
    "$ 15/G_R = 4(s_{11}+s_{22}+s_{33}) - 4(s_{12} + s_{23} + s_{31}) + 3(s_{44} + s_{55} + s_{66})$"
   ]
  },
  {
   "cell_type": "code",
   "execution_count": 9,
   "metadata": {},
   "outputs": [
    {
     "data": {
      "text/plain": [
       "1.7935602075621964"
      ]
     },
     "execution_count": 9,
     "metadata": {},
     "output_type": "execute_result"
    }
   ],
   "source": [
    "Gr = 15.0 / (4 * (Sij[0,0] + Sij[1,1] + Sij[2,2]) - 4 * (Sij[0,1] + Sij[1,2] + Sij[2,0]) + 3 * (Sij[3,3] + Sij[4,4] + Sij[5,5]))\n",
    "Gr"
   ]
  },
  {
   "cell_type": "markdown",
   "metadata": {},
   "source": [
    "### Voigt-Reuss-Hill bulk modulus $K_{VRH}$ $(GPa)$\n",
    "$K_{VRH} = (K_R + K_v)/2$"
   ]
  },
  {
   "cell_type": "code",
   "execution_count": 10,
   "metadata": {},
   "outputs": [
    {
     "data": {
      "text/plain": [
       "0.6281459265455952"
      ]
     },
     "execution_count": 10,
     "metadata": {},
     "output_type": "execute_result"
    }
   ],
   "source": [
    "Kvrh = (Kv + Kr)/2\n",
    "Kvrh"
   ]
  },
  {
   "cell_type": "markdown",
   "metadata": {},
   "source": [
    "### Voigt-Reuss-Hill shear modulus $G_{VRH}$ $(GPa)$\n",
    "$G_{VRH} = (G_R + G_v)/2$"
   ]
  },
  {
   "cell_type": "code",
   "execution_count": 11,
   "metadata": {},
   "outputs": [
    {
     "data": {
      "text/plain": [
       "0.81458043711443151"
      ]
     },
     "execution_count": 11,
     "metadata": {},
     "output_type": "execute_result"
    }
   ],
   "source": [
    "Gvrh = (Gv + Gr)/2\n",
    "Gvrh"
   ]
  },
  {
   "cell_type": "markdown",
   "metadata": {},
   "source": [
    "### Isotropic Poisson ratio $\\mu$\n",
    "$\\mu = (3K_{VRH} - 2G_{VRH})/(6K_{VRH} + 2G_{VRH})$"
   ]
  },
  {
   "cell_type": "code",
   "execution_count": 12,
   "metadata": {},
   "outputs": [
    {
     "data": {
      "text/plain": [
       "0.047290697006705809"
      ]
     },
     "execution_count": 12,
     "metadata": {},
     "output_type": "execute_result"
    }
   ],
   "source": [
    "mu = (3 * Kvrh - 2 * Gvrh) / (6 * Kvrh + 2 * Gvrh )\n",
    "mu"
   ]
  },
  {
   "cell_type": "code",
   "execution_count": 13,
   "metadata": {},
   "outputs": [
    {
     "data": {
      "text/plain": [
       "array([[ -1.99298000e+00,  -3.43810000e-01,   5.02230000e-01,\n",
       "          9.62500000e-02,   2.28800000e-02,  -1.30000000e-04],\n",
       "       [ -3.43810000e-01,  -9.90880000e-01,   5.28120000e-01,\n",
       "         -2.52300000e-02,  -2.47000000e-03,  -4.35000000e-03],\n",
       "       [  5.02230000e-01,   5.28120000e-01,   1.02003000e+00,\n",
       "         -9.91000000e-03,   1.13000000e-03,  -3.51000000e-03],\n",
       "       [  9.62500000e-02,  -2.52300000e-02,  -9.91000000e-03,\n",
       "         -5.54010000e-01,   7.00000000e-04,  -5.74000000e-03],\n",
       "       [  2.28800000e-02,  -2.47000000e-03,   1.13000000e-03,\n",
       "          7.00000000e-04,   2.99200000e-01,  -1.90000000e-04],\n",
       "       [ -1.30000000e-04,  -4.35000000e-03,  -3.51000000e-03,\n",
       "         -5.74000000e-03,  -1.90000000e-04,   3.16270000e-01]])"
      ]
     },
     "execution_count": 13,
     "metadata": {},
     "output_type": "execute_result"
    }
   ],
   "source": [
    "Cij"
   ]
  },
  {
   "cell_type": "code",
   "execution_count": null,
   "metadata": {},
   "outputs": [],
   "source": []
  },
  {
   "cell_type": "code",
   "execution_count": null,
   "metadata": {},
   "outputs": [],
   "source": []
  }
 ],
 "metadata": {
  "kernelspec": {
   "display_name": "Python 3",
   "language": "python",
   "name": "python3"
  },
  "language_info": {
   "codemirror_mode": {
    "name": "ipython",
    "version": 3
   },
   "file_extension": ".py",
   "mimetype": "text/x-python",
   "name": "python",
   "nbconvert_exporter": "python",
   "pygments_lexer": "ipython3",
   "version": "3.6.5"
  }
 },
 "nbformat": 4,
 "nbformat_minor": 1
}
